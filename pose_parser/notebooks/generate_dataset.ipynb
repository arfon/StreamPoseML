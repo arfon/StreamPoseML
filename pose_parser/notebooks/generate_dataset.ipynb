{
 "cells": [
  {
   "attachments": {},
   "cell_type": "markdown",
   "metadata": {},
   "source": [
    "# Build Datasets"
   ]
  },
  {
   "attachments": {},
   "cell_type": "markdown",
   "metadata": {},
   "source": [
    "### Handle imports"
   ]
  },
  {
   "cell_type": "code",
   "execution_count": 1,
   "metadata": {},
   "outputs": [
    {
     "name": "stderr",
     "output_type": "stream",
     "text": [
      "2023-03-24 19:21:11.600262: I tensorflow/core/platform/cpu_feature_guard.cc:193] This TensorFlow binary is optimized with oneAPI Deep Neural Network Library (oneDNN) to use the following CPU instructions in performance-critical operations:  SSE4.1 SSE4.2 AVX AVX2 FMA\n",
      "To enable them in other operations, rebuild TensorFlow with the appropriate compiler flags.\n"
     ]
    }
   ],
   "source": [
    "import sys\n",
    "import os\n",
    "import time\n",
    "# Reloader\n",
    "import importlib\n",
    "\n",
    "# Assuming the notebook is in the \"notebooks\" folder, we go one level up to include the \"pose_parser\" package.\n",
    "parent_directory = os.path.abspath(os.path.join(os.getcwd(), os.pardir))\n",
    "\n",
    "if parent_directory not in sys.path:\n",
    "    sys.path.append(parent_directory)\n",
    "\n",
    "import pose_parser.jobs.process_videos_job as pv\n",
    "import pose_parser.jobs.build_and_format_dataset_job as data_builder \n",
    "\n"
   ]
  },
  {
   "attachments": {},
   "cell_type": "markdown",
   "metadata": {},
   "source": [
    "### I/O File Locations\n",
    "\n",
    "Relative to this directory ./pose_parser/notebooks"
   ]
  },
  {
   "cell_type": "code",
   "execution_count": 2,
   "metadata": {},
   "outputs": [],
   "source": [
    "# The location of video files\n",
    "source_videos_directory = \"../../source_videos\"\n",
    "\n",
    "# The location of Dataloop Annotations corresponding to each video\n",
    "source_annotations_directory = \"../../source_annotations\"\n",
    "\n",
    "# The location to output sequence data\n",
    "sequence_data_directory = \"../../data/sequences\"\n",
    "\n",
    "# The location to output keypoint data\n",
    "keypoints_data_directory = \"../../data/keypoints\"\n",
    "\n",
    "# The location to output datasets\n",
    "merged_annotation_output_directory = \"../../data/annotated_videos\""
   ]
  },
  {
   "attachments": {},
   "cell_type": "markdown",
   "metadata": {},
   "source": [
    "### Generate Keypoint and Sequence Data"
   ]
  },
  {
   "cell_type": "code",
   "execution_count": 6,
   "metadata": {},
   "outputs": [
    {
     "name": "stdout",
     "output_type": "stream",
     "text": [
      "Successfully wrote ../../data/sequences/run-1679706020787139000/IKF_8.27_1230pm_BW_Front_P5.webm_sequence.json.\n",
      "1/86 completed: IKF_8.27_1230pm_BW_Front_P5.webm.\n",
      "Successfully wrote ../../data/sequences/run-1679706020787139000/IKF_8.27_11am_BW_Front_P4.webm_sequence.json.\n",
      "2/86 completed: IKF_8.27_11am_BW_Front_P4.webm.\n",
      "Successfully wrote ../../data/sequences/run-1679706020787139000/IRC_9.11_2pm_BW_Front_P63.webm_sequence.json.\n",
      "3/86 completed: IRC_9.11_2pm_BW_Front_P63.webm.\n",
      "Successfully wrote ../../data/sequences/run-1679706020787139000/IKF_8.31_1030am_BW_Front_P26.webm_sequence.json.\n",
      "4/86 completed: IKF_8.31_1030am_BW_Front_P26.webm.\n",
      "Successfully wrote ../../data/sequences/run-1679706020787139000/IKF_8.31_12pm_BW_Front_P30.webm_sequence.json.\n",
      "5/86 completed: IKF_8.31_12pm_BW_Front_P30.webm.\n",
      "Successfully wrote ../../data/sequences/run-1679706020787139000/IKF_9.3_230pm_BW_Front_P47.webm_sequence.json.\n",
      "6/86 completed: IKF_9.3_230pm_BW_Front_P47.webm.\n",
      "Successfully wrote ../../data/sequences/run-1679706020787139000/IRC_9.11_11am_BW_Front2_P58.webm_sequence.json.\n",
      "7/86 completed: IRC_9.11_11am_BW_Front2_P58.webm.\n",
      "Successfully wrote ../../data/sequences/run-1679706020787139000/IKF_8.27_11am_BW_Front2_P2.webm_sequence.json.\n",
      "8/86 completed: IKF_8.27_11am_BW_Front2_P2.webm.\n",
      "Successfully wrote ../../data/sequences/run-1679706020787139000/WLR_9.1.1pm_BW_Front2_P43.webm_sequence.json.\n",
      "9/86 completed: WLR_9.1.1pm_BW_Front2_P43.webm.\n",
      "Successfully wrote ../../data/sequences/run-1679706020787139000/IKF_8.31_1030am_BW_Front2_P27.webm_sequence.json.\n",
      "10/86 completed: IKF_8.31_1030am_BW_Front2_P27.webm.\n",
      "Successfully wrote ../../data/sequences/run-1679706020787139000/IKF_8.31_1030am_BW_Front2_P26.webm_sequence.json.\n",
      "11/86 completed: IKF_8.31_1030am_BW_Front2_P26.webm.\n",
      "Successfully wrote ../../data/sequences/run-1679706020787139000/WLR_9.1.1pm_BW_Front2_P42.webm_sequence.json.\n",
      "12/86 completed: WLR_9.1.1pm_BW_Front2_P42.webm.\n",
      "Successfully wrote ../../data/sequences/run-1679706020787139000/IKF_8.27_11am_BW_Front2_P3.webm_sequence.json.\n",
      "13/86 completed: IKF_8.27_11am_BW_Front2_P3.webm.\n",
      "Successfully wrote ../../data/sequences/run-1679706020787139000/IKF_8.27_1230pm_BW_Front_P8.webm_sequence.json.\n",
      "14/86 completed: IKF_8.27_1230pm_BW_Front_P8.webm.\n",
      "Successfully wrote ../../data/sequences/run-1679706020787139000/IKF_8.31_12pm_BW_Front_P31.webm_sequence.json.\n",
      "15/86 completed: IKF_8.31_12pm_BW_Front_P31.webm.\n",
      "Successfully wrote ../../data/sequences/run-1679706020787139000/IKF_8.31_12pm_BW_Front2_P31.webm_sequence.json.\n",
      "16/86 completed: IKF_8.31_12pm_BW_Front2_P31.webm.\n",
      "Successfully wrote ../../data/sequences/run-1679706020787139000/IKF_8.31_1030am_BW_Front_P27.webm_sequence.json.\n",
      "17/86 completed: IKF_8.31_1030am_BW_Front_P27.webm.\n",
      "Successfully wrote ../../data/sequences/run-1679706020787139000/WLR_9.1.1pm_BW_Front_P41.webm_sequence.json.\n",
      "18/86 completed: WLR_9.1.1pm_BW_Front_P41.webm.\n",
      "Successfully wrote ../../data/sequences/run-1679706020787139000/IRC_9.11_2pm_BW_Front_P62.webm_sequence.json.\n",
      "19/86 completed: IRC_9.11_2pm_BW_Front_P62.webm.\n",
      "Successfully wrote ../../data/sequences/run-1679706020787139000/WLR_9.8_1130am_BW_Front2_P40.webm_sequence.json.\n",
      "20/86 completed: WLR_9.8_1130am_BW_Front2_P40.webm.\n",
      "Successfully wrote ../../data/sequences/run-1679706020787139000/WLR_9.8_10am_BW_Front2_P50.webm_sequence.json.\n",
      "21/86 completed: WLR_9.8_10am_BW_Front2_P50.webm.\n",
      "Successfully wrote ../../data/sequences/run-1679706020787139000/WLR_9.8_1130am_BW_Front_P53.webm_sequence.json.\n",
      "22/86 completed: WLR_9.8_1130am_BW_Front_P53.webm.\n",
      "Successfully wrote ../../data/sequences/run-1679706020787139000/WLR_9.8_10am_BW_Front_P50.webm_sequence.json.\n",
      "23/86 completed: WLR_9.8_10am_BW_Front_P50.webm.\n",
      "Successfully wrote ../../data/sequences/run-1679706020787139000/IKF_8.27_230pm_BW_Front2_P9.webm_sequence.json.\n",
      "24/86 completed: IKF_8.27_230pm_BW_Front2_P9.webm.\n",
      "Successfully wrote ../../data/sequences/run-1679706020787139000/IRC_8.28_130pm_BW_Front_P18.webm_sequence.json.\n",
      "25/86 completed: IRC_8.28_130pm_BW_Front_P18.webm.\n",
      "Successfully wrote ../../data/sequences/run-1679706020787139000/IKF_8.27_11am_BW_Front2_P4.webm_sequence.json.\n",
      "26/86 completed: IKF_8.27_11am_BW_Front2_P4.webm.\n",
      "Successfully wrote ../../data/sequences/run-1679706020787139000/IRC_9.11_1230pm_BW_Front2_P60.webm_sequence.json.\n",
      "27/86 completed: IRC_9.11_1230pm_BW_Front2_P60.webm.\n",
      "Successfully wrote ../../data/sequences/run-1679706020787139000/IKF_9.10_10am_BW_Front_P56.webm_sequence.json.\n",
      "28/86 completed: IKF_9.10_10am_BW_Front_P56.webm.\n",
      "Successfully wrote ../../data/sequences/run-1679706020787139000/IRC_9.11_1230pm_BW_Front3_P60.webm_sequence.json.\n",
      "29/86 completed: IRC_9.11_1230pm_BW_Front3_P60.webm.\n",
      "Successfully wrote ../../data/sequences/run-1679706020787139000/IKF_9.3_230pm_BW_Front2_P49.webm_sequence.json.\n",
      "30/86 completed: IKF_9.3_230pm_BW_Front2_P49.webm.\n",
      "Successfully wrote ../../data/sequences/run-1679706020787139000/IRC_9.11_11am_BW_Front_P57.webm_sequence.json.\n",
      "31/86 completed: IRC_9.11_11am_BW_Front_P57.webm.\n",
      "Successfully wrote ../../data/sequences/run-1679706020787139000/IKF_8.27_230pm_BW_Front_P9.webm_sequence.json.\n",
      "32/86 completed: IKF_8.27_230pm_BW_Front_P9.webm.\n",
      "Successfully wrote ../../data/sequences/run-1679706020787139000/IKF_8.27_11am_BW_Front_P2.webm_sequence.json.\n",
      "33/86 completed: IKF_8.27_11am_BW_Front_P2.webm.\n",
      "Successfully wrote ../../data/sequences/run-1679706020787139000/IKF_8.27_1230pm_BW_Front2_P6.webm_sequence.json.\n",
      "34/86 completed: IKF_8.27_1230pm_BW_Front2_P6.webm.\n",
      "Successfully wrote ../../data/sequences/run-1679706020787139000/IRC_9.11_1230pm_BW_Front_P61.webm_sequence.json.\n",
      "35/86 completed: IRC_9.11_1230pm_BW_Front_P61.webm.\n",
      "Successfully wrote ../../data/sequences/run-1679706020787139000/IRC_9.11_1230pm_BW_Front_P60.webm_sequence.json.\n",
      "36/86 completed: IRC_9.11_1230pm_BW_Front_P60.webm.\n",
      "Successfully wrote ../../data/sequences/run-1679706020787139000/WLR_9.1_230pm_BW_Front2_P44.webm_sequence.json.\n",
      "37/86 completed: WLR_9.1_230pm_BW_Front2_P44.webm.\n",
      "Successfully wrote ../../data/sequences/run-1679706020787139000/WLR_9.8_1pm_BW_Front2_P55.webm_sequence.json.\n",
      "38/86 completed: WLR_9.8_1pm_BW_Front2_P55.webm.\n",
      "Successfully wrote ../../data/sequences/run-1679706020787139000/IKF_8.27_11am_BW_Front_P3.webm_sequence.json.\n",
      "39/86 completed: IKF_8.27_11am_BW_Front_P3.webm.\n",
      "Successfully wrote ../../data/sequences/run-1679706020787139000/IKF_9.3_230pm_BW_Front2_P48.webm_sequence.json.\n",
      "40/86 completed: IKF_9.3_230pm_BW_Front2_P48.webm.\n",
      "Successfully wrote ../../data/sequences/run-1679706020787139000/IRC_9.11_1230pm_BW_Front2_P61.webm_sequence.json.\n",
      "41/86 completed: IRC_9.11_1230pm_BW_Front2_P61.webm.\n",
      "Successfully wrote ../../data/sequences/run-1679706020787139000/IKF_8.27_230pm_BW_Front3_P9.webm_sequence.json.\n",
      "42/86 completed: IKF_8.27_230pm_BW_Front3_P9.webm.\n",
      "Successfully wrote ../../data/sequences/run-1679706020787139000/WLR_9.8_10am_BW_Front_P51.webm_sequence.json.\n",
      "43/86 completed: WLR_9.8_10am_BW_Front_P51.webm.\n",
      "Successfully wrote ../../data/sequences/run-1679706020787139000/WLR_9.8_10am_BW_Front2_P51.webm_sequence.json.\n",
      "44/86 completed: WLR_9.8_10am_BW_Front2_P51.webm.\n",
      "Successfully wrote ../../data/sequences/run-1679706020787139000/IKF_9.03_1130am_BW_Front2_P46.webm_sequence.json.\n",
      "45/86 completed: IKF_9.03_1130am_BW_Front2_P46.webm.\n",
      "Successfully wrote ../../data/sequences/run-1679706020787139000/IKF_9.03_1130am_BW_Front_P45.webm_sequence.json.\n",
      "46/86 completed: IKF_9.03_1130am_BW_Front_P45.webm.\n",
      "Successfully wrote ../../data/sequences/run-1679706020787139000/IKF_8.27_1230pm_BW_Front2_P8.webm_sequence.json.\n",
      "47/86 completed: IKF_8.27_1230pm_BW_Front2_P8.webm.\n",
      "Successfully wrote ../../data/sequences/run-1679706020787139000/WLR_9.8_10am_BW_Front_P52.webm_sequence.json.\n",
      "48/86 completed: WLR_9.8_10am_BW_Front_P52.webm.\n",
      "Successfully wrote ../../data/sequences/run-1679706020787139000/WLR_9.8_10am_BW_Front2_P52.webm_sequence.json.\n",
      "49/86 completed: WLR_9.8_10am_BW_Front2_P52.webm.\n",
      "Successfully wrote ../../data/sequences/run-1679706020787139000/WLR_9.8_10am_BW_Front3_P52.webm_sequence.json.\n",
      "50/86 completed: WLR_9.8_10am_BW_Front3_P52.webm.\n",
      "Successfully wrote ../../data/sequences/run-1679706020787139000/IKF_9.03_1130am_BW_Front2_P45.webm_sequence.json.\n",
      "51/86 completed: IKF_9.03_1130am_BW_Front2_P45.webm.\n",
      "Successfully wrote ../../data/sequences/run-1679706020787139000/IKF_9.03_1130am_BW_Front_P46.webm_sequence.json.\n",
      "52/86 completed: IKF_9.03_1130am_BW_Front_P46.webm.\n",
      "Successfully wrote ../../data/sequences/run-1679706020787139000/IKF_9.3_230pm_BW_Front2_P47.webm_sequence.json.\n",
      "53/86 completed: IKF_9.3_230pm_BW_Front2_P47.webm.\n",
      "Successfully wrote ../../data/sequences/run-1679706020787139000/IRC_8.28_130pm_BW_Front2_P18.webm_sequence.json.\n",
      "54/86 completed: IRC_8.28_130pm_BW_Front2_P18.webm.\n",
      "Successfully wrote ../../data/sequences/run-1679706020787139000/IKF_8.27_230pm_BW_Front_P10.webm_sequence.json.\n",
      "55/86 completed: IKF_8.27_230pm_BW_Front_P10.webm.\n",
      "Successfully wrote ../../data/sequences/run-1679706020787139000/IKF_8.27_1230pm_BW_Front3_P5.webm_sequence.json.\n",
      "56/86 completed: IKF_8.27_1230pm_BW_Front3_P5.webm.\n",
      "Successfully wrote ../../data/sequences/run-1679706020787139000/WLR_9.8_1130am_BW_Front3_P53.webm_sequence.json.\n",
      "57/86 completed: WLR_9.8_1130am_BW_Front3_P53.webm.\n",
      "Successfully wrote ../../data/sequences/run-1679706020787139000/WLR_9.8_1130am_BW_Front2_P53.webm_sequence.json.\n",
      "58/86 completed: WLR_9.8_1130am_BW_Front2_P53.webm.\n",
      "Successfully wrote ../../data/sequences/run-1679706020787139000/IKF_8.27_230pm_BW_Front_P11.webm_sequence.json.\n",
      "59/86 completed: IKF_8.27_230pm_BW_Front_P11.webm.\n",
      "Successfully wrote ../../data/sequences/run-1679706020787139000/IKF_8.27_11am_BW_Front_P1.webm_sequence.json.\n",
      "60/86 completed: IKF_8.27_11am_BW_Front_P1.webm.\n",
      "Successfully wrote ../../data/sequences/run-1679706020787139000/IKF_8.27_1230pm_BW_Front2_P5.webm_sequence.json.\n",
      "61/86 completed: IKF_8.27_1230pm_BW_Front2_P5.webm.\n",
      "Successfully wrote ../../data/sequences/run-1679706020787139000/IRC_9.11_11am_BW_Front_P58.webm_sequence.json.\n",
      "62/86 completed: IRC_9.11_11am_BW_Front_P58.webm.\n",
      "Successfully wrote ../../data/sequences/run-1679706020787139000/WLR_9.8_1pm_BW_Front_P55.webm_sequence.json.\n",
      "63/86 completed: WLR_9.8_1pm_BW_Front_P55.webm.\n",
      "Successfully wrote ../../data/sequences/run-1679706020787139000/IKF_9.10_10am_BW_Front2_P56.webm_sequence.json.\n",
      "64/86 completed: IKF_9.10_10am_BW_Front2_P56.webm.\n"
     ]
    },
    {
     "name": "stderr",
     "output_type": "stream",
     "text": [
      "[matroska,webm @ 0x7f7ecba35dc0] File ended prematurely\n"
     ]
    },
    {
     "name": "stdout",
     "output_type": "stream",
     "text": [
      "Successfully wrote ../../data/sequences/run-1679706020787139000/WLR_9.1.1pm_BW_Front_P42.webm_sequence.json.\n",
      "65/86 completed: WLR_9.1.1pm_BW_Front_P42.webm.\n",
      "Successfully wrote ../../data/sequences/run-1679706020787139000/IKF_8.27_230pm_BW_Front2_P10.webm_sequence.json.\n",
      "66/86 completed: IKF_8.27_230pm_BW_Front2_P10.webm.\n",
      "Successfully wrote ../../data/sequences/run-1679706020787139000/IKF_9.3_230pm_BW_Front_P49.webm_sequence.json.\n",
      "67/86 completed: IKF_9.3_230pm_BW_Front_P49.webm.\n",
      "Successfully wrote ../../data/sequences/run-1679706020787139000/IKF_8.27_11am_BW_Front3_P1.webm_sequence.json.\n",
      "68/86 completed: IKF_8.27_11am_BW_Front3_P1.webm.\n",
      "Successfully wrote ../../data/sequences/run-1679706020787139000/IKF_8.31_1030am_BW_Front_P28.webm_sequence.json.\n",
      "69/86 completed: IKF_8.31_1030am_BW_Front_P28.webm.\n",
      "Successfully wrote ../../data/sequences/run-1679706020787139000/IRC_9.11_2pm_BW_Front2_P62.webm_sequence.json.\n",
      "70/86 completed: IRC_9.11_2pm_BW_Front2_P62.webm.\n",
      "Successfully wrote ../../data/sequences/run-1679706020787139000/WLR_9.1.1pm_BW_Front2_P41.webm_sequence.json.\n",
      "71/86 completed: WLR_9.1.1pm_BW_Front2_P41.webm.\n",
      "Successfully wrote ../../data/sequences/run-1679706020787139000/IKF_8.27_230pm_BW_Front5_P9.webm_sequence.json.\n",
      "72/86 completed: IKF_8.27_230pm_BW_Front5_P9.webm.\n"
     ]
    },
    {
     "name": "stderr",
     "output_type": "stream",
     "text": [
      "[matroska,webm @ 0x7f7e5a233180] File ended prematurely at pos. 524288 (0x80000)\n"
     ]
    },
    {
     "name": "stdout",
     "output_type": "stream",
     "text": [
      "Successfully wrote ../../data/sequences/run-1679706020787139000/WLR_9.8_10am_BW_Front_P54.webm_sequence.json.\n",
      "73/86 completed: WLR_9.8_10am_BW_Front_P54.webm.\n",
      "Successfully wrote ../../data/sequences/run-1679706020787139000/WLR_9.1_230pm_BW_Front_P44.webm_sequence.json.\n",
      "74/86 completed: WLR_9.1_230pm_BW_Front_P44.webm.\n",
      "Successfully wrote ../../data/sequences/run-1679706020787139000/WLR_9.8_1130am_BW_Front_P40.webm_sequence.json.\n",
      "75/86 completed: WLR_9.8_1130am_BW_Front_P40.webm.\n",
      "Successfully wrote ../../data/sequences/run-1679706020787139000/IKF_8.27_11am_BW_Front2_P1.webm_sequence.json.\n",
      "76/86 completed: IKF_8.27_11am_BW_Front2_P1.webm.\n",
      "Successfully wrote ../../data/sequences/run-1679706020787139000/IRC_9.11_2pm_BW_Front2_P63.webm_sequence.json.\n",
      "77/86 completed: IRC_9.11_2pm_BW_Front2_P63.webm.\n",
      "Successfully wrote ../../data/sequences/run-1679706020787139000/IKF_8.27_230pm_BW_Front4_P9.webm_sequence.json.\n",
      "78/86 completed: IKF_8.27_230pm_BW_Front4_P9.webm.\n",
      "Successfully wrote ../../data/sequences/run-1679706020787139000/IRC_9.11_11am_BW_Front2_P57.webm_sequence.json.\n",
      "79/86 completed: IRC_9.11_11am_BW_Front2_P57.webm.\n",
      "Successfully wrote ../../data/sequences/run-1679706020787139000/IKF_8.27_230pm_BW_Front2_P11.webm_sequence.json.\n",
      "80/86 completed: IKF_8.27_230pm_BW_Front2_P11.webm.\n",
      "Successfully wrote ../../data/sequences/run-1679706020787139000/IKF_9.3_230pm_BW_Front_P48.webm_sequence.json.\n",
      "81/86 completed: IKF_9.3_230pm_BW_Front_P48.webm.\n",
      "Successfully wrote ../../data/sequences/run-1679706020787139000/IKF_8.27_1230pm_BW_Front_P6.webm_sequence.json.\n",
      "82/86 completed: IKF_8.27_1230pm_BW_Front_P6.webm.\n",
      "Successfully wrote ../../data/sequences/run-1679706020787139000/IKF_8.31_12pm_BW_Front_P29.webm_sequence.json.\n",
      "83/86 completed: IKF_8.31_12pm_BW_Front_P29.webm.\n",
      "Successfully wrote ../../data/sequences/run-1679706020787139000/IKF_8.31_12pm_BW_Front2_P29.webm_sequence.json.\n",
      "84/86 completed: IKF_8.31_12pm_BW_Front2_P29.webm.\n",
      "Successfully wrote ../../data/sequences/run-1679706020787139000/IKF_8.31_1030am_BW_Front2_P28.webm_sequence.json.\n",
      "85/86 completed: IKF_8.31_1030am_BW_Front2_P28.webm.\n",
      "Successfully wrote ../../data/sequences/run-1679706020787139000/WLR_9.1.1pm_BW_Front_P43.webm_sequence.json.\n",
      "86/86 completed: WLR_9.1.1pm_BW_Front_P43.webm.\n"
     ]
    },
    {
     "data": {
      "text/plain": [
       "{'keypoints_path': '../../data/keypoints/run-1679706020787139000',\n",
       " 'sequence_path': '../../data/sequences/run-1679706020787139000'}"
      ]
     },
     "execution_count": 6,
     "metadata": {},
     "output_type": "execute_result"
    }
   ],
   "source": [
    "importlib.reload(pv)\n",
    "\n",
    "# give a timestamped folder to not overwrite\n",
    "folder = f\"run-{time.time_ns()}\"  \n",
    "keypoints_path = f\"{keypoints_data_directory}/{folder}\"\n",
    "sequence_path = f\"{sequence_data_directory}/{folder}\"\n",
    "\n",
    "pv.ProcessVideosJob().process_videos(\n",
    "    src_videos_path=source_videos_directory,\n",
    "    output_keypoints_data_path=keypoints_path,\n",
    "    output_sequence_data_path=sequence_path,\n",
    "    write_keypoints_to_file=True,\n",
    "    write_serialized_sequence_to_file=True,\n",
    "    limit=None,\n",
    "    configuration={},\n",
    "    preprocess_video=True,\n",
    "    return_output=False\n",
    ")"
   ]
  },
  {
   "attachments": {},
   "cell_type": "markdown",
   "metadata": {},
   "source": [
    "### Generate Dataset\n",
    "\n",
    "TODO enumerate all the options here... \n",
    "\n",
    "\n",
    "#### Labels\n",
    "```\n",
    "step_type\n",
    "weight_transfer_type\n",
    "```\n",
    "#### Segmentation Strategy\n",
    "```\n",
    "flatten_into_columns\n",
    "split_on_label\n",
    "window\n",
    "none\n",
    "```\n"
   ]
  },
  {
   "cell_type": "code",
   "execution_count": 3,
   "metadata": {},
   "outputs": [
    {
     "data": {
      "text/plain": [
       "True"
      ]
     },
     "execution_count": 3,
     "metadata": {},
     "output_type": "execute_result"
    }
   ],
   "source": [
    "importlib.reload(data_builder)\n",
    "\n",
    "# sequence generated on 3/24/23 with new normalized values\n",
    "sequence_data_directory= \"../../data/sequences/run-1679706020787139000\"\n",
    "\n",
    "db = data_builder.BuildAndFormatDatasetJob()\n",
    "dataset = db.build_dataset_from_data_files(\n",
    "    annotations_data_directory=source_annotations_directory,\n",
    "    sequence_data_directory=sequence_data_directory,\n",
    "    limit=None,\n",
    ")\n",
    "\n",
    "formatted_dataset = db.format_dataset(\n",
    "    dataset=dataset,\n",
    "    pool_frame_data_by_clip=True,\n",
    "    decimal_precision=4,\n",
    "    include_unlabeled_data=True,\n",
    "    include_angles=True,\n",
    "    include_distances=True,\n",
    "    include_normalized=True,\n",
    "    segmentation_strategy=\"split_on_label\",\n",
    "    segmentation_splitter_label=\"step_type\",\n",
    "    segmentation_window=10,\n",
    "    segmentation_window_label=\"weight_transfer_type\",\n",
    ")\n",
    "\n",
    "db.write_dataset_to_csv(\n",
    "    csv_location=merged_annotation_output_directory,\n",
    "    formatted_dataset=formatted_dataset,\n",
    ")"
   ]
  }
 ],
 "metadata": {
  "kernelspec": {
   "display_name": "pose_parser",
   "language": "python",
   "name": "python3"
  },
  "language_info": {
   "codemirror_mode": {
    "name": "ipython",
    "version": 3
   },
   "file_extension": ".py",
   "mimetype": "text/x-python",
   "name": "python",
   "nbconvert_exporter": "python",
   "pygments_lexer": "ipython3",
   "version": "3.10.9"
  },
  "orig_nbformat": 4
 },
 "nbformat": 4,
 "nbformat_minor": 2
}
